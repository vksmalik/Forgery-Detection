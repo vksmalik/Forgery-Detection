{
 "cells": [
  {
   "cell_type": "code",
   "execution_count": 1,
   "id": "4d527112",
   "metadata": {},
   "outputs": [],
   "source": [
    "import sys\n",
    "import random\n",
    "import math\n",
    "from hashlib import sha256"
   ]
  },
  {
   "cell_type": "code",
   "execution_count": 2,
   "id": "6968906c",
   "metadata": {},
   "outputs": [],
   "source": [
    "# Utility Function\n",
    "def hashFunction(message):\n",
    "    hashed = sha256(message.encode(\"UTF-8\")).hexdigest()\n",
    "    return hashed"
   ]
  },
  {
   "cell_type": "code",
   "execution_count": 3,
   "id": "8ac4276b",
   "metadata": {},
   "outputs": [],
   "source": [
    "def is_prime(n):\n",
    "    \"\"\"Primality test using 6k+-1 optimization.\"\"\"\n",
    "    if n <= 3:\n",
    "        return n > 1\n",
    "    \n",
    "    if n % 2 == 0 or n % 3 == 0:\n",
    "        return False\n",
    "    \n",
    "    i = 5\n",
    "    while i ** 2 <= n:\n",
    "        if n % i == 0 or n % (i + 2) == 0:\n",
    "            return False\n",
    "        i += 6\n",
    "    return True"
   ]
  },
  {
   "cell_type": "code",
   "execution_count": 4,
   "id": "8e2f907a",
   "metadata": {},
   "outputs": [],
   "source": [
    "def extendedEuclidean(denominator, prime):\n",
    "    if denominator == 0:\n",
    "        return prime, 0, 1\n",
    "    else:\n",
    "        gcd, x, y = extendedEuclidean(prime % denominator, denominator)\n",
    "        \n",
    "        return gcd, y - math.floor(prime / denominator) * x, x #or gcd, y - (prime // denominator) * x, x\n"
   ]
  },
  {
   "cell_type": "code",
   "execution_count": 5,
   "id": "a9ab8844",
   "metadata": {},
   "outputs": [],
   "source": [
    "def genrateKeyPair():\n",
    "    p = int(input(\"Input enter a prime no. p: \"))\n",
    "    q = int(input(\"Input enter a prime no. q: \"))         \n",
    "    \n",
    "    if not (is_prime(p) & is_prime(q)):\n",
    "        genrateKeyPair()\n",
    "\n",
    "    n = p*q\n",
    "    print(\"p X q = \",n)\n",
    "    phin = (p-1)*(q-1)\n",
    "    print(\"phi(n) = \",phin)\n",
    "    e = int(input(\"Enter a Encryption key(e): \"))\n",
    "\n",
    "    inverse = extendedEuclidean(e,phin)\n",
    "\n",
    "    if inverse[0] == 1:\n",
    "        d = int(inverse[1])\n",
    "        print(\"Decryption key(d) is: \",d)\n",
    "    else:\n",
    "        sys.exit(\"Multiplicative inverse for the given encryption key does not exist. Choose a different encrytion key \")\n",
    "        \n",
    "    return ((e,n),(d,n))"
   ]
  },
  {
   "cell_type": "code",
   "execution_count": 6,
   "id": "90686353",
   "metadata": {},
   "outputs": [],
   "source": [
    "def sign(privateKey, message):\n",
    "    key, n = privateKey\n",
    "    \n",
    "    numberRepr = [ord(char) for char in message]\n",
    "    print(\"Number representation before encryption: \", numberRepr)\n",
    "    signature = [pow(ord(char),key)%n for char in message]\n",
    "    \n",
    "    #Return the array of bytes\n",
    "    return signature"
   ]
  },
  {
   "cell_type": "code",
   "execution_count": 7,
   "id": "9e9c378b",
   "metadata": {},
   "outputs": [],
   "source": [
    "def verify(publicKey, signature, recivedHash):\n",
    "\n",
    "    key, n = publicKey\n",
    "\n",
    "    #Generate the plaintext based on the signature and key using a^b mod m\n",
    "    numberRepr = [pow(char, key)%n for char in signature]\n",
    "    plain = [chr(int(pow(char, key)%n)) for char in signature]\n",
    "\n",
    "    print(\"Decrypted number representation is: \", numberRepr)\n",
    "    \n",
    "    constructedMessage = ''.join(plain)\n",
    "    print(\"Constructed Message = \",constructedMessage)\n",
    "    constructedHash = hashFunction(constructedMessage)\n",
    "\n",
    "    if recivedHash != constructedHash:\n",
    "        print(recivedHash, \" != \", constructedHash)\n",
    "        print(\"Signature Breach!\")\n",
    "        return\n",
    "    \n",
    "    print(recivedHash, \" = \", constructedHash)\n",
    "    print(\"Verified\")\n",
    "    return "
   ]
  },
  {
   "cell_type": "code",
   "execution_count": 8,
   "id": "f842ee82",
   "metadata": {},
   "outputs": [
    {
     "name": "stdout",
     "output_type": "stream",
     "text": [
      "Input enter a prime no. p: 823\n",
      "Input enter a prime no. q: 953\n",
      "p X q =  784319\n",
      "phi(n) =  782544\n",
      "Enter a Encryption key(e): 313\n",
      "Decryption key(d) is:  160009\n",
      "Enter a Message for Signature: Hello\n",
      "Number representation before encryption:  [72, 101, 108, 108, 111]\n",
      "Decrypted number representation is:  [72, 101, 108, 108, 111]\n",
      "Constructed Message =  Hello\n",
      "185f8db32271fe25f561a6fc938b2e264306ec304eda518007d1764826381969  =  185f8db32271fe25f561a6fc938b2e264306ec304eda518007d1764826381969\n",
      "Verified\n"
     ]
    }
   ],
   "source": [
    "def main():\n",
    "\n",
    "    publicKey, privateKey = genrateKeyPair()\n",
    "    message = input(\"Enter a Message for Signature: \")\n",
    "    hashedMessage = hashFunction(message)\n",
    "    signature = sign(privateKey,message)\n",
    "    verify(publicKey, signature, hashedMessage)\n",
    "\n",
    "if __name__ == \"__main__\":\n",
    "    main()"
   ]
  },
  {
   "cell_type": "code",
   "execution_count": null,
   "id": "eca1f402",
   "metadata": {},
   "outputs": [],
   "source": []
  }
 ],
 "metadata": {
  "kernelspec": {
   "display_name": "Python 3",
   "language": "python",
   "name": "python3"
  },
  "language_info": {
   "codemirror_mode": {
    "name": "ipython",
    "version": 3
   },
   "file_extension": ".py",
   "mimetype": "text/x-python",
   "name": "python",
   "nbconvert_exporter": "python",
   "pygments_lexer": "ipython3",
   "version": "3.8.8"
  }
 },
 "nbformat": 4,
 "nbformat_minor": 5
}
